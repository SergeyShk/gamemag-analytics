{
  "nbformat": 4,
  "nbformat_minor": 0,
  "metadata": {
    "colab": {
      "name": "dl_classification.ipynb",
      "provenance": [],
      "private_outputs": true,
      "collapsed_sections": [],
      "toc_visible": true
    },
    "kernelspec": {
      "name": "python3",
      "display_name": "Python 3"
    },
    "accelerator": "GPU"
  },
  "cells": [
    {
      "cell_type": "code",
      "metadata": {
        "id": "irEeFSG-_17e",
        "colab_type": "code",
        "colab": {}
      },
      "source": [
        "!pip install tensorflow-gpu"
      ],
      "execution_count": null,
      "outputs": []
    },
    {
      "cell_type": "code",
      "metadata": {
        "id": "FD7q5Nkl0kvs",
        "colab_type": "code",
        "colab": {}
      },
      "source": [
        "!pip install deeppavlov"
      ],
      "execution_count": null,
      "outputs": []
    },
    {
      "cell_type": "code",
      "metadata": {
        "id": "Jh_PW7dJ-o9x",
        "colab_type": "code",
        "colab": {}
      },
      "source": [
        "!python -m deeppavlov install bert_sentiment.json"
      ],
      "execution_count": null,
      "outputs": []
    },
    {
      "cell_type": "code",
      "metadata": {
        "id": "eJsWV2ndHFRK",
        "colab_type": "code",
        "colab": {}
      },
      "source": [
        "!python -m deeppavlov install fasttext_sentiment.json"
      ],
      "execution_count": null,
      "outputs": []
    },
    {
      "cell_type": "code",
      "metadata": {
        "id": "GX09UGLPEmmN",
        "colab_type": "code",
        "colab": {}
      },
      "source": [
        "from google.colab import drive\n",
        "drive.mount('/content/drive', force_remount=True)"
      ],
      "execution_count": null,
      "outputs": []
    },
    {
      "cell_type": "code",
      "metadata": {
        "id": "pjFIKhli8DkZ",
        "colab_type": "code",
        "colab": {}
      },
      "source": [
        "from deeppavlov import train_model"
      ],
      "execution_count": null,
      "outputs": []
    },
    {
      "cell_type": "code",
      "metadata": {
        "id": "c73N8OMY9Tnf",
        "colab_type": "code",
        "colab": {}
      },
      "source": [
        "model = train_model('bert_sentiment.json', download=False)"
      ],
      "execution_count": null,
      "outputs": []
    },
    {
      "cell_type": "code",
      "metadata": {
        "id": "HQlht50a80DN",
        "colab_type": "code",
        "colab": {}
      },
      "source": [
        "model = train_model('elmo_sentiment.json')"
      ],
      "execution_count": null,
      "outputs": []
    },
    {
      "cell_type": "code",
      "metadata": {
        "id": "V4qLxrWdDYNk",
        "colab_type": "code",
        "colab": {}
      },
      "source": [
        "model = train_model('fasttext_sentiment.json', download=False)"
      ],
      "execution_count": null,
      "outputs": []
    },
    {
      "cell_type": "code",
      "metadata": {
        "id": "NjqmXDApDDiM",
        "colab_type": "code",
        "colab": {}
      },
      "source": [
        "!zip -r /content/model_bert.zip /content/model"
      ],
      "execution_count": null,
      "outputs": []
    },
    {
      "cell_type": "code",
      "metadata": {
        "id": "vxPuSm7w_zoW",
        "colab_type": "code",
        "colab": {}
      },
      "source": [
        "!cp model_bert.zip 'drive/My Drive/Colab Notebooks'"
      ],
      "execution_count": null,
      "outputs": []
    },
    {
      "cell_type": "code",
      "metadata": {
        "id": "doT7W9-0Eit8",
        "colab_type": "code",
        "colab": {}
      },
      "source": [
        ""
      ],
      "execution_count": null,
      "outputs": []
    }
  ]
}